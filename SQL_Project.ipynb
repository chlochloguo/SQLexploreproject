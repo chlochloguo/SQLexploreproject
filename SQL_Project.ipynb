{
  "nbformat": 4,
  "nbformat_minor": 0,
  "metadata": {
    "colab": {
      "provenance": [],
      "authorship_tag": "ABX9TyN4QuEzQNYTg7Y8IBPrjQ7b",
      "include_colab_link": true
    },
    "kernelspec": {
      "name": "python3",
      "display_name": "Python 3"
    },
    "language_info": {
      "name": "python"
    }
  },
  "cells": [
    {
      "cell_type": "markdown",
      "metadata": {
        "id": "view-in-github",
        "colab_type": "text"
      },
      "source": [
        "<a href=\"https://colab.research.google.com/github/chlochloguo/SQLexploreproject/blob/main/SQL_Project.ipynb\" target=\"_parent\"><img src=\"https://colab.research.google.com/assets/colab-badge.svg\" alt=\"Open In Colab\"/></a>"
      ]
    },
    {
      "cell_type": "code",
      "execution_count": null,
      "metadata": {
        "id": "V4i8slzkFnZN"
      },
      "outputs": [],
      "source": [
        "# Mount Google Drive\n",
        "from google.colab import drive\n",
        "drive.mount('/content/drive')"
      ]
    },
    {
      "cell_type": "code",
      "source": [
        "# Import libraries\n",
        "import pandas as pd\n",
        "\n",
        "# Load Excel file\n",
        "file_path = '/content/drive/MyDrive/Resume Projects/SQL Tableau project /CovidDeaths (3).xlsx'\n",
        "CovidDeaths = pd.read_excel(file_path)\n",
        "file_paths = '/content/drive/MyDrive/Resume Projects/SQL Tableau project /CovidVaccinations.xlsx'\n",
        "CovidVaccinations=pd.read_excel(file_paths)\n",
        "# Load SQL extension\n",
        "%load_ext sql\n",
        "%sql sqlite://\n",
        "\n",
        "# Drop old table if it exists\n",
        "%sql DROP TABLE IF EXISTS CovidDeaths;\n",
        "%sql DROP TABLE IF EXISTS CovidVaccinations;\n",
        "# Persist the DataFrame as a SQL table\n",
        "%sql --persist CovidDeaths\n",
        "%sql --persist CovidVaccinations"
      ],
      "metadata": {
        "id": "F1EPy0R6Fq7V"
      },
      "execution_count": null,
      "outputs": []
    },
    {
      "cell_type": "code",
      "source": [
        "%pip install --upgrade prettytable ipython-sql\n",
        "%config SqlMagic.style = '_DEPRECATED_DEFAULT'"
      ],
      "metadata": {
        "id": "YT3wmOZ02i29"
      },
      "execution_count": null,
      "outputs": []
    },
    {
      "cell_type": "code",
      "source": [
        "%%sql\n",
        "SELECT location, date, total_cases, new_cases, total_deaths, population\n",
        "From CovidDeaths\n",
        "ORDER BY Location, date\n"
      ],
      "metadata": {
        "id": "oPtZaBgVzPsu"
      },
      "execution_count": null,
      "outputs": []
    },
    {
      "cell_type": "code",
      "source": [
        "## looking at total cases vs total deaths\n",
        "## shows likelihood of dying if you contract covid in your country\n",
        "%%sql\n",
        "SELECT location, date, total_cases, total_deaths, (total_deaths/total_cases)*100 as DeathPercentage\n",
        "From CovidDeaths\n",
        "Where location like '%states%'\n",
        "ORDER BY Location, date"
      ],
      "metadata": {
        "id": "M1ZcnT8zDnnj"
      },
      "execution_count": null,
      "outputs": []
    },
    {
      "cell_type": "code",
      "source": [
        "## looking at total cases vs population\n",
        "## shows what percentage of population got covid\n",
        "%%sql\n",
        "SELECT location, date, population, total_cases, (total_cases/population)*100 as PercentPopulationInfected\n",
        "From CovidDeaths\n",
        "ORDER BY Location, date"
      ],
      "metadata": {
        "id": "Lp4rppmzEqR8"
      },
      "execution_count": null,
      "outputs": []
    },
    {
      "cell_type": "code",
      "source": [
        "## looking at countries with hightest infection rate compared to population\n",
        "%%sql\n",
        "SELECT location, population,Max(total_cases) as HighestInfectionCOunt,\n",
        " MAX(total_cases/population)*100 as PercentPopulationInfected\n",
        "From CovidDeaths\n",
        "Group by Location, population\n",
        "ORDER BY PercentPopulationInfected desc"
      ],
      "metadata": {
        "id": "mzsmshM6I6mw"
      },
      "execution_count": null,
      "outputs": []
    },
    {
      "cell_type": "code",
      "source": [
        "# Showing ccountries with highest death count per population\n",
        "%%sql\n",
        "SELECT location, Max(total_deaths) as TotalDeathCount\n",
        "From CovidDeaths\n",
        "Where continent is not null\n",
        "Group by Location\n",
        "ORDER BY TotalDeathCount desc"
      ],
      "metadata": {
        "id": "0PEKhrBmJEPj"
      },
      "execution_count": null,
      "outputs": []
    },
    {
      "cell_type": "code",
      "source": [
        "## Showing continents with the highest death count\n",
        "%%sql\n",
        "SELECT continent, MAX(total_deaths) as TotalDeathCount\n",
        "From CovidDeaths\n",
        "Where continent is not null\n",
        "Group by continent\n",
        "ORDER BY TotalDeathCount desc"
      ],
      "metadata": {
        "id": "F5T7jYlXLYhR"
      },
      "execution_count": null,
      "outputs": []
    },
    {
      "cell_type": "code",
      "source": [
        "## global numbers\n",
        "%%sql\n",
        "Select SUM(new_cases) as total_cases, SUM(cast(new_deaths as int)) as total_deaths,\n",
        "        SUM(cast(new_deaths as int))/SUM(new_cases)*100 as DeathPercentage\n",
        "From CovidDeaths\n",
        "-- location like '%state%'\n",
        "Where continent is not null\n",
        "ORDER by SUM(new_cases),\n",
        " SUM(cast(new_deaths as int))\n"
      ],
      "metadata": {
        "id": "F4mUhgTaVez7"
      },
      "execution_count": null,
      "outputs": []
    },
    {
      "cell_type": "code",
      "source": [
        "# Looking at total population vs accinations\n",
        "%%sql\n",
        "SELECT\n",
        "    dea.continent,\n",
        "    dea.location,\n",
        "    dea.date,\n",
        "    dea.population,\n",
        "    vac.new_vaccinations,\n",
        "    SUM(CAST(vac.new_vaccinations AS BIGINT)) OVER (\n",
        "        PARTITION BY dea.location\n",
        "        ORDER BY dea.location, dea.date\n",
        "    ) AS RollingPeopleVaccinated,\n",
        "    (SUM(CAST(vac.new_vaccinations AS BIGINT)) OVER (\n",
        "        PARTITION BY dea.location\n",
        "        ORDER BY dea.location, dea.date\n",
        "    ) * 1.0 / dea.population) * 100 AS PercentVaccinated\n",
        "FROM CovidDeaths AS dea\n",
        "JOIN CovidVaccinations AS vac\n",
        "    ON dea.location = vac.location\n",
        "   AND dea.date = vac.date\n",
        "WHERE dea.continent IS NOT NULL\n",
        "ORDER BY dea.location, dea.date;\n"
      ],
      "metadata": {
        "id": "Ft9E5HIlzGBK"
      },
      "execution_count": null,
      "outputs": []
    },
    {
      "cell_type": "code",
      "source": [
        "# CTE\n",
        "%%sql\n",
        "WITH PopvsVac (\n",
        "    Continent,\n",
        "    Location,\n",
        "    Date,\n",
        "    Population,\n",
        "    New_Vaccinations,\n",
        "    RollingPeopleVaccinated,\n",
        "    PercentVaccinated\n",
        ") AS (\n",
        "    SELECT\n",
        "        dea.continent,\n",
        "        dea.location,\n",
        "        dea.date,\n",
        "        dea.population,\n",
        "        vac.new_vaccinations,\n",
        "        SUM(CAST(vac.new_vaccinations AS BIGINT)) OVER (\n",
        "            PARTITION BY dea.location\n",
        "            ORDER BY dea.location, dea.date\n",
        "        ) AS RollingPeopleVaccinated,\n",
        "        (SUM(CAST(vac.new_vaccinations AS BIGINT)) OVER (\n",
        "            PARTITION BY dea.location\n",
        "            ORDER BY dea.location, dea.date\n",
        "        ) * 1.0 / dea.population) * 100 AS PercentVaccinated\n",
        "    FROM CovidDeaths AS dea\n",
        "    JOIN CovidVaccinations AS vac\n",
        "        ON dea.location = vac.location\n",
        "       AND dea.date = vac.date\n",
        "    WHERE dea.continent IS NOT NULL\n",
        ")\n",
        "SELECT *,(RollingPeopleVaccinated/Population)*100\n",
        "FROM PopvsVac\n"
      ],
      "metadata": {
        "id": "LtK1zvbONki5"
      },
      "execution_count": null,
      "outputs": []
    },
    {
      "cell_type": "code",
      "source": [
        "# Temp Table\n",
        "%%sql\n",
        "CREATE TABLE IF NOT EXISTS PercentPopulationVaccinated (\n",
        "    Continent NVARCHAR(255),\n",
        "    Location NVARCHAR(255),\n",
        "    Date DATETIME,\n",
        "    Population NUMERIC,\n",
        "    New_vaccinations NUMERIC,\n",
        "    RollingPeopleVaccinated NUMERIC\n",
        ");\n",
        "\n",
        "INSERT INTO PercentPopulationVaccinated\n",
        "SELECT\n",
        "    dea.continent,\n",
        "    dea.location,\n",
        "    dea.date,\n",
        "    dea.population,\n",
        "    vac.new_vaccinations,\n",
        "    SUM(CAST(vac.new_vaccinations AS BIGINT)) OVER (\n",
        "            PARTITION BY dea.location\n",
        "            ORDER BY dea.location, dea.date\n",
        "        ) AS RollingPeopleVaccinated\n",
        "FROM CovidDeaths AS dea\n",
        "JOIN CovidVaccinations AS vac\n",
        "    ON dea.location = vac.location\n",
        "   AND dea.date = vac.date\n",
        "WHERE dea.continent IS NOT NULL;\n",
        "\n",
        "SELECT *,(RollingPeopleVaccinated/Population)*100\n",
        "From PercentPopulationVaccinated\n",
        "\n"
      ],
      "metadata": {
        "id": "YVjY88J5VUue"
      },
      "execution_count": null,
      "outputs": []
    },
    {
      "cell_type": "code",
      "source": [
        "# Cretae View to store data for later\n",
        "%%sql\n",
        "DROP VIEW IF EXISTS PercentPopulationVaccinated;\n",
        "CREATE VIEW PercentPopulationVaccinated AS\n",
        "SELECT\n",
        "    dea.continent,\n",
        "    dea.location,\n",
        "    dea.date,\n",
        "    dea.population,\n",
        "    vac.new_vaccinations,\n",
        "    SUM(CAST(vac.new_vaccinations AS INTEGER)) OVER (\n",
        "            PARTITION BY dea.location\n",
        "            ORDER BY dea.location, dea.date ) AS RollingPeopleVaccinated\n",
        "FROM CovidDeaths AS dea\n",
        "JOIN CovidVaccinations AS vac\n",
        "    ON dea.location = vac.location\n",
        "   AND dea.date = vac.date\n",
        "WHERE dea.continent IS NOT NULL;"
      ],
      "metadata": {
        "id": "tgboDPfbcvKI"
      },
      "execution_count": null,
      "outputs": []
    },
    {
      "cell_type": "code",
      "source": [
        "%%sql\n",
        "SELECT name\n",
        "FROM sqlite_master\n",
        "WHERE type='view';\n"
      ],
      "metadata": {
        "id": "NJwnkrDAaNu5"
      },
      "execution_count": null,
      "outputs": []
    }
  ]
}